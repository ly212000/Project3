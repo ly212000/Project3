{
 "cells": [
  {
   "cell_type": "code",
   "execution_count": 1,
   "metadata": {
    "scrolled": false
   },
   "outputs": [],
   "source": [
    "import numpy as np"
   ]
  },
  {
   "cell_type": "code",
   "execution_count": 2,
   "metadata": {
    "scrolled": false
   },
   "outputs": [],
   "source": [
    "import pandas as pd"
   ]
  },
  {
   "cell_type": "code",
   "execution_count": 3,
   "metadata": {
    "scrolled": false
   },
   "outputs": [],
   "source": [
    "def tempTo(a):\n",
    "    b = float(-39.6 + 0.01*a)\n",
    "    return round(b, 2)"
   ]
  },
  {
   "cell_type": "code",
   "execution_count": 4,
   "metadata": {
    "scrolled": false
   },
   "outputs": [],
   "source": [
    "def humiTo(a):\n",
    "    b = float(-2.0468 + 0.0367*a-1.5955*(10**(-6))*(a**2))\n",
    "    return round(b, 2)"
   ]
  },
  {
   "cell_type": "code",
   "execution_count": 33,
   "metadata": {},
   "outputs": [
    {
     "name": "stdout",
     "output_type": "stream",
     "text": [
      "  type_packet destination_address source_address len_payload id_group  \\\n",
      "0           0                   0              0           0        0   \n",
      "1          00                0080           0001          18       22   \n",
      "2          00                0080           0001          18       22   \n",
      "\n",
      "  note_id1  temp1  humi1 note_id2  temp2  humi2 note_id3  temp3  humi3  \\\n",
      "0        0   0.00   0.00        0   0.00   0.00        0   0.00   0.00   \n",
      "1     1111  27.51  70.38     4444  26.49  71.03     1111  27.51  70.38   \n",
      "2     3333  26.63  73.60     4444  26.49  71.03     3333  26.63  73.60   \n",
      "\n",
      "  note_id4  temp4  humi4  \n",
      "0        0   0.00   0.00  \n",
      "1     4444  26.47  71.15  \n",
      "2     4444  26.47  71.15  \n"
     ]
    }
   ],
   "source": [
    "f = open('output.txt','r')\n",
    "col_names = ['type_packet','destination_address','source_address', 'len_payload', 'id_group', 'note_id1', 'temp1' ,'humi1', 'note_id2', 'temp2' ,'humi2', 'note_id3', 'temp3', 'humi3', 'note_id4', 'temp4' ,'humi4']\n",
    "\n",
    "df = pd.DataFrame(np.zeros((1,len(col_names))), columns = col_names)\n",
    "\n",
    "while True:\n",
    "    data=f.readline()\n",
    "    data = data.split(\" \")\n",
    "    if data == ['']:\n",
    "        break\n",
    "    \n",
    "    try:\n",
    "        data.remove('\\n')\n",
    "    except:\n",
    "        break\n",
    "    type_msg = data[0]\n",
    "    destination_add = data[1]+data[2]\n",
    "    source_add = data[3]+data[4]\n",
    "    len_payload = data[5]\n",
    "    id_group = data[6]\n",
    "\n",
    "    id_note1 = data[8]+data[9]\n",
    "    temp1 = int(data[10]+data[11],16)\n",
    "    temp1 = tempTo(temp1)\n",
    "    humi1 = int(data[12]+data[13],16)\n",
    "    humi1 = humiTo(humi1)\n",
    "\n",
    "    id_note2 = data[14]+data[15]\n",
    "    temp2 = int(data[16]+data[17],16)\n",
    "    temp2 = tempTo(temp2)\n",
    "    humi2 = int(data[18]+data[19],16)\n",
    "    humi2 = humiTo(humi2)\n",
    "\n",
    "    id_note3 = data[20]+data[21]\n",
    "    temp3 = int(data[22]+data[23],16)\n",
    "    temp3 = tempTo(temp3)\n",
    "    humi3 = int(data[24]+data[25],16)\n",
    "    humi3 = humiTo(humi3)\n",
    "\n",
    "    id_note4 = data[26]+data[27]\n",
    "    temp4 = int(data[28]+data[29],16)\n",
    "    temp4 = tempTo(temp4)\n",
    "    humi4 = int(data[30]+data[31],16)\n",
    "    humi4 = humiTo(humi4)\n",
    "\n",
    "    #data1 = np.array([type_msg, destination_add, source_add, len_payload, id_group, id_note1, temp1,\n",
    "                        #humi1, id_note2, temp2, humi2, id_note3, temp3, humi3, id_note4, temp1, humi4])\n",
    "    #df1 = pd.DataFrame(data1, columns = col_names)\n",
    "    new_row = {'type_packet':type_msg, 'destination_address': destination_add, 'source_address':source_add,\n",
    "              'len_payload':len_payload, 'id_group':id_group,\n",
    "              'note_id1':id_note1, 'temp1':temp1, 'humi1':humi1,\n",
    "              'note_id2':id_note2, 'temp2':temp2, 'humi2':humi2,\n",
    "              'note_id3':id_note3, 'temp3':temp3, 'humi3':humi3,\n",
    "              'note_id4':id_note4, 'temp4':temp4, 'humi4':humi4,}\n",
    "    df = df.append(new_row, ignore_index = True)\n",
    "\n",
    "print(df)"
   ]
  },
  {
   "cell_type": "code",
   "execution_count": null,
   "metadata": {
    "scrolled": false,
    "slideshow": {
     "slide_type": "skip"
    }
   },
   "outputs": [],
   "source": []
  },
  {
   "cell_type": "code",
   "execution_count": null,
   "metadata": {
    "scrolled": false
   },
   "outputs": [],
   "source": []
  }
 ],
 "metadata": {
  "celltoolbar": "Raw Cell Format",
  "kernelspec": {
   "display_name": "Python 3",
   "language": "python",
   "name": "python3"
  },
  "language_info": {
   "codemirror_mode": {
    "name": "ipython",
    "version": 3
   },
   "file_extension": ".py",
   "mimetype": "text/x-python",
   "name": "python",
   "nbconvert_exporter": "python",
   "pygments_lexer": "ipython3",
   "version": "3.6.9"
  }
 },
 "nbformat": 4,
 "nbformat_minor": 2
}
